{
 "cells": [
  {
   "cell_type": "markdown",
   "id": "f9941ad7-edff-4603-b0fc-e06fc19b90be",
   "metadata": {},
   "source": [
    "## DEMOGRAPHIC INFORMATION OF STUDENTS"
   ]
  },
  {
   "cell_type": "code",
   "execution_count": null,
   "id": "374c592a-41a6-470f-98c2-8cd99237fdf3",
   "metadata": {},
   "outputs": [],
   "source": [
    "import numpy as np\n",
    "import pandas as pd"
   ]
  },
  {
   "cell_type": "code",
   "execution_count": 12,
   "id": "77fd6a4b-098b-47da-9fd4-06ab855237ba",
   "metadata": {},
   "outputs": [],
   "source": [
    "firstIndexes=[\"Gender\",\"Gender\",\"Gender\",\"Educational Status\",\"Educational Status\",\"Educational Status\",\"Educational Status\",\"Average Daily Computer/Internet Usage Time\",\"Average Daily Computer/Internet Usage Time\",\"Average Daily Computer/Internet Usage Time\",\"Average Daily Computer/Internet Usage Time\"]"
   ]
  },
  {
   "cell_type": "code",
   "execution_count": 14,
   "id": "2520a897-4124-4f2a-8d83-9f141ea83343",
   "metadata": {},
   "outputs": [],
   "source": [
    "internalIndexes=[\"Male\",\"Woman\",\"Total\",\"High school\",\"Associate Degree\",\"Licence\",\"Total\",\"0-2 Hours\",\"3-5 Hours\",\"9 Hours and above\",\"Total\"]"
   ]
  },
  {
   "cell_type": "code",
   "execution_count": 16,
   "id": "b5f42a8a-fc7f-478f-9a54-588cc4884411",
   "metadata": {},
   "outputs": [
    {
     "data": {
      "text/plain": [
       "[('Gender', 'Male'),\n",
       " ('Gender', 'Woman'),\n",
       " ('Gender', 'Total'),\n",
       " ('Educational Status', 'High school'),\n",
       " ('Educational Status', 'Associate Degree'),\n",
       " ('Educational Status', 'Licence'),\n",
       " ('Educational Status', 'Total'),\n",
       " ('Average Daily Computer/Internet Usage Time', '0-2 Hours'),\n",
       " ('Average Daily Computer/Internet Usage Time', '3-5 Hours'),\n",
       " ('Average Daily Computer/Internet Usage Time', '9 Hours and above'),\n",
       " ('Average Daily Computer/Internet Usage Time', 'Total')]"
      ]
     },
     "execution_count": 16,
     "metadata": {},
     "output_type": "execute_result"
    }
   ],
   "source": [
    "combinedIndexes=list(zip(firstIndexes,internalIndexes))\n",
    "combinedIndexes"
   ]
  },
  {
   "cell_type": "code",
   "execution_count": 19,
   "id": "bd41c5cd-7462-4d4a-b46c-e9cf42c55434",
   "metadata": {},
   "outputs": [
    {
     "data": {
      "text/plain": [
       "MultiIndex([(                                    'Gender', ...),\n",
       "            (                                    'Gender', ...),\n",
       "            (                                    'Gender', ...),\n",
       "            (                        'Educational Status', ...),\n",
       "            (                        'Educational Status', ...),\n",
       "            (                        'Educational Status', ...),\n",
       "            (                        'Educational Status', ...),\n",
       "            ('Average Daily Computer/Internet Usage Time', ...),\n",
       "            ('Average Daily Computer/Internet Usage Time', ...),\n",
       "            ('Average Daily Computer/Internet Usage Time', ...),\n",
       "            ('Average Daily Computer/Internet Usage Time', ...)],\n",
       "           )"
      ]
     },
     "execution_count": 19,
     "metadata": {},
     "output_type": "execute_result"
    }
   ],
   "source": [
    "combinedIndexes=pd.MultiIndex.from_tuples(combinedIndexes)\n",
    "combinedIndexes"
   ]
  },
  {
   "cell_type": "code",
   "execution_count": 20,
   "id": "f58b488f-5ed0-463a-a5f7-796a33697327",
   "metadata": {},
   "outputs": [],
   "source": [
    "firstList=[[476,54.7],[394,45.3],[870,100],[371,42.6],[212,24.4],[287,33.0],[870,100],[482,55.4],[314,36.1],[74,8.1],[870,100]]"
   ]
  },
  {
   "cell_type": "code",
   "execution_count": 21,
   "id": "7cb1e4e4-7d72-4efd-b86e-775c2c5bc54d",
   "metadata": {},
   "outputs": [],
   "source": [
    "numpyList=np.array(firstList)"
   ]
  },
  {
   "cell_type": "code",
   "execution_count": 25,
   "id": "f200c1a0-016f-4b4e-aab1-600ca52e9589",
   "metadata": {},
   "outputs": [],
   "source": [
    "dataFrameList=pd.DataFrame(numpyList,index=combinedIndexes,columns=[\"f\",\"%\"])"
   ]
  },
  {
   "cell_type": "code",
   "execution_count": 26,
   "id": "93d48e2c-e8fd-4062-ae61-cf337fe43924",
   "metadata": {},
   "outputs": [
    {
     "data": {
      "text/html": [
       "<div>\n",
       "<style scoped>\n",
       "    .dataframe tbody tr th:only-of-type {\n",
       "        vertical-align: middle;\n",
       "    }\n",
       "\n",
       "    .dataframe tbody tr th {\n",
       "        vertical-align: top;\n",
       "    }\n",
       "\n",
       "    .dataframe thead th {\n",
       "        text-align: right;\n",
       "    }\n",
       "</style>\n",
       "<table border=\"1\" class=\"dataframe\">\n",
       "  <thead>\n",
       "    <tr style=\"text-align: right;\">\n",
       "      <th></th>\n",
       "      <th></th>\n",
       "      <th>f</th>\n",
       "      <th>%</th>\n",
       "    </tr>\n",
       "  </thead>\n",
       "  <tbody>\n",
       "    <tr>\n",
       "      <th rowspan=\"3\" valign=\"top\">Gender</th>\n",
       "      <th>Male</th>\n",
       "      <td>476.0</td>\n",
       "      <td>54.7</td>\n",
       "    </tr>\n",
       "    <tr>\n",
       "      <th>Woman</th>\n",
       "      <td>394.0</td>\n",
       "      <td>45.3</td>\n",
       "    </tr>\n",
       "    <tr>\n",
       "      <th>Total</th>\n",
       "      <td>870.0</td>\n",
       "      <td>100.0</td>\n",
       "    </tr>\n",
       "    <tr>\n",
       "      <th rowspan=\"4\" valign=\"top\">Educational Status</th>\n",
       "      <th>High school</th>\n",
       "      <td>371.0</td>\n",
       "      <td>42.6</td>\n",
       "    </tr>\n",
       "    <tr>\n",
       "      <th>Associate Degree</th>\n",
       "      <td>212.0</td>\n",
       "      <td>24.4</td>\n",
       "    </tr>\n",
       "    <tr>\n",
       "      <th>Licence</th>\n",
       "      <td>287.0</td>\n",
       "      <td>33.0</td>\n",
       "    </tr>\n",
       "    <tr>\n",
       "      <th>Total</th>\n",
       "      <td>870.0</td>\n",
       "      <td>100.0</td>\n",
       "    </tr>\n",
       "    <tr>\n",
       "      <th rowspan=\"4\" valign=\"top\">Average Daily Computer/Internet Usage Time</th>\n",
       "      <th>0-2 Hours</th>\n",
       "      <td>482.0</td>\n",
       "      <td>55.4</td>\n",
       "    </tr>\n",
       "    <tr>\n",
       "      <th>3-5 Hours</th>\n",
       "      <td>314.0</td>\n",
       "      <td>36.1</td>\n",
       "    </tr>\n",
       "    <tr>\n",
       "      <th>9 Hours and above</th>\n",
       "      <td>74.0</td>\n",
       "      <td>8.1</td>\n",
       "    </tr>\n",
       "    <tr>\n",
       "      <th>Total</th>\n",
       "      <td>870.0</td>\n",
       "      <td>100.0</td>\n",
       "    </tr>\n",
       "  </tbody>\n",
       "</table>\n",
       "</div>"
      ],
      "text/plain": [
       "                                                                  f      %\n",
       "Gender                                     Male               476.0   54.7\n",
       "                                           Woman              394.0   45.3\n",
       "                                           Total              870.0  100.0\n",
       "Educational Status                         High school        371.0   42.6\n",
       "                                           Associate Degree   212.0   24.4\n",
       "                                           Licence            287.0   33.0\n",
       "                                           Total              870.0  100.0\n",
       "Average Daily Computer/Internet Usage Time 0-2 Hours          482.0   55.4\n",
       "                                           3-5 Hours          314.0   36.1\n",
       "                                           9 Hours and above   74.0    8.1\n",
       "                                           Total              870.0  100.0"
      ]
     },
     "execution_count": 26,
     "metadata": {},
     "output_type": "execute_result"
    }
   ],
   "source": [
    "dataFrameList"
   ]
  },
  {
   "cell_type": "code",
   "execution_count": 27,
   "id": "ebfdbf47-7e5c-4cf5-b25f-3b7acf9607f7",
   "metadata": {},
   "outputs": [],
   "source": [
    "dataFrameList.index.names=[\"Variable\",\"Category\"]"
   ]
  },
  {
   "cell_type": "code",
   "execution_count": 28,
   "id": "8124ef34-8173-4dd5-aa19-85d8ceb51ec1",
   "metadata": {},
   "outputs": [
    {
     "data": {
      "text/html": [
       "<div>\n",
       "<style scoped>\n",
       "    .dataframe tbody tr th:only-of-type {\n",
       "        vertical-align: middle;\n",
       "    }\n",
       "\n",
       "    .dataframe tbody tr th {\n",
       "        vertical-align: top;\n",
       "    }\n",
       "\n",
       "    .dataframe thead th {\n",
       "        text-align: right;\n",
       "    }\n",
       "</style>\n",
       "<table border=\"1\" class=\"dataframe\">\n",
       "  <thead>\n",
       "    <tr style=\"text-align: right;\">\n",
       "      <th></th>\n",
       "      <th></th>\n",
       "      <th>f</th>\n",
       "      <th>%</th>\n",
       "    </tr>\n",
       "    <tr>\n",
       "      <th>Variable</th>\n",
       "      <th>Category</th>\n",
       "      <th></th>\n",
       "      <th></th>\n",
       "    </tr>\n",
       "  </thead>\n",
       "  <tbody>\n",
       "    <tr>\n",
       "      <th rowspan=\"3\" valign=\"top\">Gender</th>\n",
       "      <th>Male</th>\n",
       "      <td>476.0</td>\n",
       "      <td>54.7</td>\n",
       "    </tr>\n",
       "    <tr>\n",
       "      <th>Woman</th>\n",
       "      <td>394.0</td>\n",
       "      <td>45.3</td>\n",
       "    </tr>\n",
       "    <tr>\n",
       "      <th>Total</th>\n",
       "      <td>870.0</td>\n",
       "      <td>100.0</td>\n",
       "    </tr>\n",
       "    <tr>\n",
       "      <th rowspan=\"4\" valign=\"top\">Educational Status</th>\n",
       "      <th>High school</th>\n",
       "      <td>371.0</td>\n",
       "      <td>42.6</td>\n",
       "    </tr>\n",
       "    <tr>\n",
       "      <th>Associate Degree</th>\n",
       "      <td>212.0</td>\n",
       "      <td>24.4</td>\n",
       "    </tr>\n",
       "    <tr>\n",
       "      <th>Licence</th>\n",
       "      <td>287.0</td>\n",
       "      <td>33.0</td>\n",
       "    </tr>\n",
       "    <tr>\n",
       "      <th>Total</th>\n",
       "      <td>870.0</td>\n",
       "      <td>100.0</td>\n",
       "    </tr>\n",
       "    <tr>\n",
       "      <th rowspan=\"4\" valign=\"top\">Average Daily Computer/Internet Usage Time</th>\n",
       "      <th>0-2 Hours</th>\n",
       "      <td>482.0</td>\n",
       "      <td>55.4</td>\n",
       "    </tr>\n",
       "    <tr>\n",
       "      <th>3-5 Hours</th>\n",
       "      <td>314.0</td>\n",
       "      <td>36.1</td>\n",
       "    </tr>\n",
       "    <tr>\n",
       "      <th>9 Hours and above</th>\n",
       "      <td>74.0</td>\n",
       "      <td>8.1</td>\n",
       "    </tr>\n",
       "    <tr>\n",
       "      <th>Total</th>\n",
       "      <td>870.0</td>\n",
       "      <td>100.0</td>\n",
       "    </tr>\n",
       "  </tbody>\n",
       "</table>\n",
       "</div>"
      ],
      "text/plain": [
       "                                                                  f      %\n",
       "Variable                                   Category                       \n",
       "Gender                                     Male               476.0   54.7\n",
       "                                           Woman              394.0   45.3\n",
       "                                           Total              870.0  100.0\n",
       "Educational Status                         High school        371.0   42.6\n",
       "                                           Associate Degree   212.0   24.4\n",
       "                                           Licence            287.0   33.0\n",
       "                                           Total              870.0  100.0\n",
       "Average Daily Computer/Internet Usage Time 0-2 Hours          482.0   55.4\n",
       "                                           3-5 Hours          314.0   36.1\n",
       "                                           9 Hours and above   74.0    8.1\n",
       "                                           Total              870.0  100.0"
      ]
     },
     "execution_count": 28,
     "metadata": {},
     "output_type": "execute_result"
    }
   ],
   "source": [
    "dataFrameList"
   ]
  }
 ],
 "metadata": {
  "kernelspec": {
   "display_name": "Python 3 (ipykernel)",
   "language": "python",
   "name": "python3"
  },
  "language_info": {
   "codemirror_mode": {
    "name": "ipython",
    "version": 3
   },
   "file_extension": ".py",
   "mimetype": "text/x-python",
   "name": "python",
   "nbconvert_exporter": "python",
   "pygments_lexer": "ipython3",
   "version": "3.11.7"
  }
 },
 "nbformat": 4,
 "nbformat_minor": 5
}
